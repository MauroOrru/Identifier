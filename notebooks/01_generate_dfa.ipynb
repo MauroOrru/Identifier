{
 "cells": [
  {
   "cell_type": "markdown",
   "id": "f7d6f57a",
   "metadata": {},
   "source": [
    "### Imports"
   ]
  },
  {
   "cell_type": "code",
   "execution_count": 3,
   "id": "8d731863",
   "metadata": {},
   "outputs": [],
   "source": [
    "# 📦 Setup ambiente notebook\n",
    "import sys\n",
    "from pathlib import Path\n",
    "\n",
    "# Aggiunge src/ al path (modifica se sei in una cartella diversa)\n",
    "sys.path.append(str(Path(\"../src\").resolve()))\n",
    "\n",
    "# Crea cartella output per immagini/graphviz se non esiste\n",
    "Path(\"figs\").mkdir(exist_ok=True)\n",
    "\n",
    "# Importa le funzioni dal generatore DFA\n",
    "from dfa_generator import (\n",
    "    dfa_parity,\n",
    "    dfa_contains,\n",
    "    compose,\n",
    "    simulate_samples,\n",
    ")\n"
   ]
  },
  {
   "cell_type": "markdown",
   "id": "9a2eab37",
   "metadata": {},
   "source": [
    "### Setup"
   ]
  },
  {
   "cell_type": "code",
   "execution_count": 7,
   "id": "10601856",
   "metadata": {},
   "outputs": [
    {
     "name": "stderr",
     "output_type": "stream",
     "text": [
      "Warning: Could not load \"C:\\Users\\Mauro\\anaconda3\\envs\\my_ai_env\\Library\\bin\\gvplugin_pango.dll\" - It was found, so perhaps one of its dependents was not.  Try ldd.\n",
      "Warning: Could not load \"C:\\Users\\Mauro\\anaconda3\\envs\\my_ai_env\\Library\\bin\\gvplugin_pango.dll\" - It was found, so perhaps one of its dependents was not.  Try ldd.\n",
      "Warning: Could not load \"C:\\Users\\Mauro\\anaconda3\\envs\\my_ai_env\\Library\\bin\\gvplugin_pango.dll\" - It was found, so perhaps one of its dependents was not.  Try ldd.\n",
      "Warning: Could not load \"C:\\Users\\Mauro\\anaconda3\\envs\\my_ai_env\\Library\\bin\\gvplugin_pango.dll\" - It was found, so perhaps one of its dependents was not.  Try ldd.\n",
      "Warning: Could not load \"C:\\Users\\Mauro\\anaconda3\\envs\\my_ai_env\\Library\\bin\\gvplugin_pango.dll\" - It was found, so perhaps one of its dependents was not.  Try ldd.\n"
     ]
    },
    {
     "name": "stdout",
     "output_type": "stream",
     "text": [
      "<ProductDFA: |Q|=6, |Σ|=2>\n",
      "✅ PNG generato in figs/product.png\n"
     ]
    }
   ],
   "source": [
    "# ⚙️ Costruzione e composizione DFA\n",
    "dfa1 = dfa_parity(\"a\", modulo=2)\n",
    "dfa2 = dfa_contains(\"bb\", alphabet={\"a\", \"b\"})\n",
    "product = compose([dfa1, dfa2], accepting_policy=\"intersection\")\n",
    "\n",
    "print(product)  # esempio: <ProductDFA: |Q|=6, |Σ|=2>\n",
    "\n",
    "# ✨ Genera PNG o fallback .dot\n",
    "try:\n",
    "    product.to_graphviz(\"figs/product\")\n",
    "    print(\"✅ PNG generato in figs/product.png\")\n",
    "except Exception as e:\n",
    "    print(\"⚠️ Impossibile generare PNG, genero il .dot in alternativa.\")\n",
    "    print(e)\n",
    "    # genera il .dot manualmente\n",
    "    with open(\"figs/product.dot\", \"w\") as f:\n",
    "        f.write(product.to_dot())\n",
    "    print(\"📝 File DOT salvato in figs/product.dot\")\n"
   ]
  },
  {
   "cell_type": "code",
   "execution_count": 11,
   "id": "396efc41",
   "metadata": {},
   "outputs": [
    {
     "name": "stdout",
     "output_type": "stream",
     "text": [
      "✅ Generati 5 positivi e 5 negativi.\n",
      "S⁺ esempi: ['aaaabbbb', 'aabbb', 'ababbbbb', 'abbbabbb', 'bbabbabbb']\n",
      "S⁻ esempi: ['', 'aabbbba', 'ab', 'abab', 'bab']\n"
     ]
    }
   ],
   "source": [
    "# 🧪 Generazione campioni S⁺ / S⁻\n",
    "S_pos, S_neg = simulate_samples(\n",
    "    product,\n",
    "    max_len=10,\n",
    "    n_positive=5,\n",
    "    n_negative=5,\n",
    "    seed=60\n",
    ")\n",
    "\n",
    "print(f\"✅ Generati {len(S_pos)} positivi e {len(S_neg)} negativi.\")\n",
    "print(\"S⁺ esempi:\", S_pos)\n",
    "print(\"S⁻ esempi:\", S_neg)\n"
   ]
  }
 ],
 "metadata": {
  "kernelspec": {
   "display_name": "my_ai_env",
   "language": "python",
   "name": "python3"
  },
  "language_info": {
   "codemirror_mode": {
    "name": "ipython",
    "version": 3
   },
   "file_extension": ".py",
   "mimetype": "text/x-python",
   "name": "python",
   "nbconvert_exporter": "python",
   "pygments_lexer": "ipython3",
   "version": "3.10.16"
  }
 },
 "nbformat": 4,
 "nbformat_minor": 5
}
