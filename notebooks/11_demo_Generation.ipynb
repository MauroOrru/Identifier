{
 "cells": [
  {
   "cell_type": "markdown",
   "id": "f90746a6",
   "metadata": {},
   "source": [
    "# Setup and Imports"
   ]
  },
  {
   "cell_type": "code",
   "execution_count": null,
   "id": "b4a73f82",
   "metadata": {},
   "outputs": [
    {
     "name": "stdout",
     "output_type": "stream",
     "text": [
      "[reduction] .dot saved in ../outputs/dfa1.dot\n",
      "PNG generated: ../outputs/dfa1.png\n",
      "DFA 1:\n",
      "Stati: {'r0', 'r2', 'r1'}\n",
      "Stato iniziale: r0\n",
      "Stati accettanti: {'r1'}\n",
      "Transizioni:\n",
      "  δ(r0, a) -> r1\n",
      "  δ(r0, b) -> r0\n",
      "  δ(r0, c) -> r0\n",
      "  δ(r2, a) -> r1\n",
      "  δ(r2, b) -> r2\n",
      "  δ(r2, c) -> r0\n",
      "  δ(r1, a) -> r0\n",
      "  δ(r1, b) -> r0\n",
      "  δ(r1, c) -> r1\n",
      "[reduction] .dot saved in ../outputs/dfa2.dot\n",
      "PNG generated: ../outputs/dfa2.png\n",
      "\n",
      "DFA 2:\n",
      "Stati: {'r0', 'r2', 'r1'}\n",
      "Stato iniziale: r2\n",
      "Stati accettanti: set()\n",
      "Transizioni:\n",
      "  δ(r0, a) -> r2\n",
      "  δ(r0, b) -> r0\n",
      "  δ(r0, c) -> r1\n",
      "  δ(r2, a) -> r1\n",
      "  δ(r2, b) -> r2\n",
      "  δ(r2, c) -> r1\n",
      "  δ(r1, a) -> r1\n",
      "  δ(r1, b) -> r0\n",
      "  δ(r1, c) -> r0\n"
     ]
    },
    {
     "ename": "TypeError",
     "evalue": "concurrent_composition() missing 1 required positional argument: 'b'",
     "output_type": "error",
     "traceback": [
      "\u001b[31m---------------------------------------------------------------------------\u001b[39m",
      "\u001b[31mTypeError\u001b[39m                                 Traceback (most recent call last)",
      "\u001b[36mCell\u001b[39m\u001b[36m \u001b[39m\u001b[32mIn[2]\u001b[39m\u001b[32m, line 33\u001b[39m\n\u001b[32m     30\u001b[39m \u001b[38;5;28;01mfor\u001b[39;00m (q, a), q_next \u001b[38;5;129;01min\u001b[39;00m dfa2.delta.items():\n\u001b[32m     31\u001b[39m     \u001b[38;5;28mprint\u001b[39m(\u001b[33mf\u001b[39m\u001b[33m\"\u001b[39m\u001b[33m  δ(\u001b[39m\u001b[38;5;132;01m{\u001b[39;00mq\u001b[38;5;132;01m}\u001b[39;00m\u001b[33m, \u001b[39m\u001b[38;5;132;01m{\u001b[39;00ma\u001b[38;5;132;01m}\u001b[39;00m\u001b[33m) -> \u001b[39m\u001b[38;5;132;01m{\u001b[39;00mq_next\u001b[38;5;132;01m}\u001b[39;00m\u001b[33m\"\u001b[39m)\n\u001b[32m---> \u001b[39m\u001b[32m33\u001b[39m composed_dfa = \u001b[43mconcurrent_composition\u001b[49m\u001b[43m(\u001b[49m\u001b[43m[\u001b[49m\u001b[43mdfa1\u001b[49m\u001b[43m,\u001b[49m\u001b[43m \u001b[49m\u001b[43mdfa2\u001b[49m\u001b[43m]\u001b[49m\u001b[43m)\u001b[49m\n\u001b[32m     34\u001b[39m \u001b[38;5;28mprint\u001b[39m(\u001b[33m\"\u001b[39m\u001b[33mStato iniziale del prodotto:\u001b[39m\u001b[33m\"\u001b[39m, composed_dfa.q0)\n\u001b[32m     35\u001b[39m \u001b[38;5;28mprint\u001b[39m(\u001b[33m\"\u001b[39m\u001b[33mStati accettanti del prodotto:\u001b[39m\u001b[33m\"\u001b[39m, composed_dfa.F)\n",
      "\u001b[31mTypeError\u001b[39m: concurrent_composition() missing 1 required positional argument: 'b'"
     ]
    }
   ],
   "source": [
    "import sys\n",
    "from pathlib import Path\n",
    "sys.path.append(str(Path().resolve().parent / \"src\"))\n",
    "from dfa_utils import random_dfa, concurrent_composition\n",
    "\n",
    "from dfa_examples import dfa_simple\n",
    "from generate_sets import derive_sets\n",
    "from Lib import export_dfa_dot, dot_to_png\n",
    "\n",
    "dfa1 = random_dfa(n_states=3, alphabet={'a', 'b', 'c'}, seed=42)\n",
    "export_dfa_dot(dfa1, \"../outputs/dfa1.dot\")   \n",
    "dot_to_png(\"../outputs/dfa1.dot\", \"../outputs/dfa1.png\")\n",
    "print(\"DFA 1:\")\n",
    "print(\"Stati:\", dfa1.Q)\n",
    "print(\"Stato iniziale:\", dfa1.q0)\n",
    "print(\"Stati accettanti:\", dfa1.F)\n",
    "print(\"Transizioni:\")\n",
    "for (q, a), q_next in dfa1.delta.items():\n",
    "    print(f\"  δ({q}, {a}) -> {q_next}\")\n",
    "\n",
    "\n",
    "dfa2 = random_dfa(n_states=3, alphabet={'a', 'b','c'}, seed=64)\n",
    "export_dfa_dot(dfa2, \"../outputs/dfa2.dot\")   \n",
    "dot_to_png(\"../outputs/dfa2.dot\", \"../outputs/dfa2.png\")\n",
    "print(\"\\nDFA 2:\")\n",
    "print(\"Stati:\", dfa2.Q)\n",
    "print(\"Stato iniziale:\", dfa2.q0)\n",
    "print(\"Stati accettanti:\", dfa2.F)\n",
    "print(\"Transizioni:\")\n",
    "for (q, a), q_next in dfa2.delta.items():\n",
    "    print(f\"  δ({q}, {a}) -> {q_next}\")\n",
    "\n",
    "composed_dfa = concurrent_composition(dfa1, dfa2)\n",
    "print(\"Stato iniziale del prodotto:\", composed_dfa.q0)\n",
    "print(\"Stati accettanti del prodotto:\", composed_dfa.F)\n",
    "print(\"Transizioni del prodotto:\")\n",
    "for (q, a), q_next in composed_dfa.delta.items():\n",
    "    print(f\"  δ({q}, {a}) -> {q_next}\")\n",
    "export_dfa_dot(composed_dfa, \"../outputs/composed_dfa.dot\")\n",
    "dot_to_png(\"../outputs/composed_dfa.dot\", \"../outputs/composed_dfa.png\")\n"
   ]
  }
 ],
 "metadata": {
  "kernelspec": {
   "display_name": ".conda",
   "language": "python",
   "name": "python3"
  },
  "language_info": {
   "codemirror_mode": {
    "name": "ipython",
    "version": 3
   },
   "file_extension": ".py",
   "mimetype": "text/x-python",
   "name": "python",
   "nbconvert_exporter": "python",
   "pygments_lexer": "ipython3",
   "version": "3.11.11"
  }
 },
 "nbformat": 4,
 "nbformat_minor": 5
}
