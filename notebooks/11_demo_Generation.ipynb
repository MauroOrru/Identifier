{
 "cells": [
  {
   "cell_type": "markdown",
   "id": "f90746a6",
   "metadata": {},
   "source": [
    "# Setup and Imports"
   ]
  },
  {
   "cell_type": "code",
   "execution_count": 5,
   "id": "b4a73f82",
   "metadata": {},
   "outputs": [
    {
     "data": {
      "text/plain": [
       "({'aa',\n",
       "  'aaaa',\n",
       "  'aab',\n",
       "  'aabb',\n",
       "  'aba',\n",
       "  'abab',\n",
       "  'abba',\n",
       "  'b',\n",
       "  'baa',\n",
       "  'baab',\n",
       "  'baba',\n",
       "  'bb',\n",
       "  'bbaa',\n",
       "  'bbb',\n",
       "  'bbbb'},\n",
       " {'a',\n",
       "  'aaa',\n",
       "  'aaab',\n",
       "  'aaba',\n",
       "  'ab',\n",
       "  'abaa',\n",
       "  'abb',\n",
       "  'abbb',\n",
       "  'ba',\n",
       "  'baaa',\n",
       "  'bab',\n",
       "  'babb',\n",
       "  'bba',\n",
       "  'bbab',\n",
       "  'bbba'},\n",
       " set())"
      ]
     },
     "execution_count": 5,
     "metadata": {},
     "output_type": "execute_result"
    }
   ],
   "source": [
    "import sys\n",
    "from pathlib import Path\n",
    "sys.path.append(str(Path().resolve().parent / \"src\"))\n",
    "\n",
    "from dfa_examples import dfa_simple\n",
    "from generate_sets import derive_sets\n",
    "\n",
    "dfa = dfa_simple()\n",
    "A, G, N = derive_sets(dfa, max_len=4)\n",
    "A, G, N\n"
   ]
  }
 ],
 "metadata": {
  "kernelspec": {
   "display_name": "myenv_conda",
   "language": "python",
   "name": "python3"
  },
  "language_info": {
   "codemirror_mode": {
    "name": "ipython",
    "version": 3
   },
   "file_extension": ".py",
   "mimetype": "text/x-python",
   "name": "python",
   "nbconvert_exporter": "python",
   "pygments_lexer": "ipython3",
   "version": "3.10.16"
  }
 },
 "nbformat": 4,
 "nbformat_minor": 5
}
