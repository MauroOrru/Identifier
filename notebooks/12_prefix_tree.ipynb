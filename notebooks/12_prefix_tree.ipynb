{
 "cells": [
  {
   "cell_type": "markdown",
   "id": "ceeb7c9b",
   "metadata": {},
   "source": [
    "# Project 2 - Identification of DFAs by Consistent Reduction\n"
   ]
  },
  {
   "cell_type": "markdown",
   "id": "fd1022ae",
   "metadata": {},
   "source": [
    "## Imports"
   ]
  },
  {
   "cell_type": "code",
   "execution_count": 10,
   "id": "74260b24",
   "metadata": {},
   "outputs": [],
   "source": [
    "import sys\n",
    "from pathlib import Path\n",
    "sys.path.append(str(Path().resolve().parent / \"src\"))\n",
    "Path(\"../outputs\").mkdir(parents=True, exist_ok=True)\n",
    "from dfa_utils import random_dfa, concurrent_composition\n",
    "from dfa_examples import dfa_simple\n",
    "from generate_sets import derive_sets\n",
    "from reduction import build_initial_cover\n",
    "from tree_builder import build_prefix_tree, PrefixTreeNode\n",
    "from Lib import (\n",
    "    export_dfa_dot, dot_to_png,\n",
    "    reduce_negative_set,\n",
    "    splitter, split, update2, char, compute_cover,\n",
    "    check_cover_redundancy, check_dynamic_consistency, print_cover,\n",
    "    build_reduced_dfa_from_dynamic_cover\n",
    ")\n",
    "\n"
   ]
  },
  {
   "cell_type": "markdown",
   "metadata": {},
   "source": [
    "## Pipeline "
   ]
  },
  {
   "cell_type": "markdown",
   "id": "34f18e12",
   "metadata": {},
   "source": [
    "1) Generation of a reference DFA H through the method dfa_simple().\n",
    "2) Some utils used to export the obtained DFA in .dot form and, then, to .png"
   ]
  },
  {
   "cell_type": "code",
   "execution_count": 11,
   "metadata": {},
   "outputs": [
    {
     "name": "stdout",
     "output_type": "stream",
     "text": [
      "[reduction] .dot saved in ../outputs/dfa.dot\n",
      "PNG generated: ../outputs/dfa.png\n"
     ]
    }
   ],
   "source": [
    "dfa = dfa_simple()\n",
    "export_dfa_dot(dfa, \"../outputs/dfa.dot\")   \n",
    "dot_to_png(\"../outputs/dfa.dot\", \"../outputs/dfa.png\")"
   ]
  },
  {
   "cell_type": "markdown",
   "id": "1be4ab54",
   "metadata": {},
   "source": [
    "1) Generation of 2 random DFA e to the concurrent composition.\n",
    "2) Some utils used to export the obtained DFA in .dot form and, then, to .png"
   ]
  },
  {
   "cell_type": "code",
   "execution_count": null,
   "id": "41fd6e2c",
   "metadata": {},
   "outputs": [
    {
     "name": "stdout",
     "output_type": "stream",
     "text": [
      "Stato iniziale: r0\n",
      "[reduction] .dot saved in ../outputs/dfa1.dot\n",
      "PNG generated: ../outputs/dfa1.png\n",
      "Stato iniziale: r4\n",
      "[reduction] .dot saved in ../outputs/dfa2.dot\n",
      "PNG generated: ../outputs/dfa2.png\n",
      "[reduction] .dot saved in ../outputs/composed_dfa.dot\n",
      "PNG generated: ../outputs/composed_dfa.png\n"
     ]
    }
   ],
   "source": [
    "dfa1 = random_dfa(n_states=4, alphabet={'a', 'b', 'c', 'd', 'e'}, seed=42)\n",
    "print(\"Stato iniziale:\", dfa1.q0)\n",
    "export_dfa_dot(dfa1, \"../outputs/dfa1.dot\")   \n",
    "dot_to_png(\"../outputs/dfa1.dot\", \"../outputs/dfa1.png\")\n",
    "\n",
    "dfa2 = random_dfa(n_states=5, alphabet={'a', 'b','c', 'd', 'e'}, seed=53)\n",
    "print(\"Stato iniziale:\", dfa2.q0)\n",
    "export_dfa_dot(dfa2, \"../outputs/dfa2.dot\")   \n",
    "dot_to_png(\"../outputs/dfa2.dot\", \"../outputs/dfa2.png\")\n",
    "\n",
    "composed_dfa = concurrent_composition(dfa1, dfa2)\n",
    "print(\"Stato iniziale del DFA composto:\", composed_dfa.q0)\n",
    "export_dfa_dot(composed_dfa, \"../outputs/composed_dfa.dot\")\n",
    "dot_to_png(\"../outputs/composed_dfa.dot\", \"../outputs/composed_dfa.png\")\n"
   ]
  },
  {
   "cell_type": "markdown",
   "id": "68d2599a",
   "metadata": {},
   "source": [
    "### Select the DFA that you want to reduce"
   ]
  },
  {
   "cell_type": "code",
   "execution_count": 13,
   "id": "45753dc1",
   "metadata": {},
   "outputs": [],
   "source": [
    "#dfa=dfa #use the reference DFA\n",
    "\n",
    "#or\n",
    "\n",
    "dfa = composed_dfa  #use the composed DFA by 2 random DFAs"
   ]
  },
  {
   "cell_type": "markdown",
   "id": "3254414e",
   "metadata": {},
   "source": [
    "1) Generation of the three strings sets A, G and N from the previously generated DFA, with a maximum length (of the strings that belongs to each set) of 6\n",
    "2) Reduction of the set N through the method reduce_negative_set()"
   ]
  },
  {
   "cell_type": "code",
   "execution_count": 14,
   "id": "2c7aa467",
   "metadata": {},
   "outputs": [
    {
     "name": "stdout",
     "output_type": "stream",
     "text": [
      "Calculating total word count...\n",
      "Total words to process: 780\n",
      "A = ['bc', 'beae', 'bead']\n",
      "G = ['b', 'be', 'ba', 'bee', 'bea', 'beaa', 'beab']\n",
      "N= {'bad', 'beec', 'bca', 'c', 'beea', 'bec', 'beee', 'bab', 'a', 'bcd', 'd', 'bed', 'e', 'beeb', 'beb', 'beed', 'bd', 'bcb', 'baa', 'bae', 'bac', 'bb', 'bcc', 'bce', 'beac'}\n"
     ]
    }
   ],
   "source": [
    "A, G, N = derive_sets(dfa, max_len=4)  \n",
    "print(\"A =\", sorted(A, key=len))\n",
    "print(\"G =\", sorted(G, key=len))\n",
    "N=reduce_negative_set(N)\n",
    "print(\"N=\", N)\n"
   ]
  },
  {
   "cell_type": "markdown",
   "id": "c8236110",
   "metadata": {},
   "source": [
    "1) Construction of the prefix tre acceptor given the three sets A, G and N and the alphabet of the DFA H to reduce"
   ]
  },
  {
   "cell_type": "code",
   "execution_count": 15,
   "metadata": {},
   "outputs": [
    {
     "name": "stdout",
     "output_type": "stream",
     "text": [
      "set()\n",
      "set()\n",
      "[tree_builder] saved .dot in ../outputs/prefix_tree2.dot\n",
      "PNG generated: ../outputs/prefix_tree2.png\n"
     ]
    }
   ],
   "source": [
    "tree = build_prefix_tree(A, G, N, alphabet=dfa.Sigma)\n",
    "tree.export_dot(\"../outputs/prefix_tree2.dot\")   \n",
    "dot_to_png(\"../outputs/prefix_tree2.dot\", \"../outputs/prefix_tree2.png\")"
   ]
  },
  {
   "cell_type": "markdown",
   "id": "ccd9a4cd",
   "metadata": {},
   "source": [
    "### Reduction process"
   ]
  },
  {
   "cell_type": "markdown",
   "id": "4559172e",
   "metadata": {},
   "source": [
    "1) Cover 0 represents the initial cover given the prefix tree acceptor. This cover X is non redundant\n",
    "2) Compute the refined cover through the method compute_cover that generate from the initial non-redundant cover a (H-R_C)-consistent cover (a dynamically consistent cover) that is from definition non redundant"
   ]
  },
  {
   "cell_type": "code",
   "execution_count": 16,
   "metadata": {},
   "outputs": [
    {
     "name": "stdout",
     "output_type": "stream",
     "text": [
      "Initial cover:\n",
      "Cover[1] = {, bc, bead, beae}\n",
      "Cover[2] = {, b, ba, be, bea, beaa, beab, bee}\n",
      "Cover[3] = {, a, baa, bab, bac, bad, bae, bb, bca, bcb, bcc, bcd, bce, bd, beac, beb, bec, bed, beea, beeb, beec, beed, beee, c, d, e}\n",
      "Final cover:\n",
      "Cover[1] = {be, beaa, beab}\n",
      "Cover[2] = {ba, beaa, beab, bee}\n",
      "Cover[3] = {bea, beaa, beab}\n",
      "Cover[4] = {b, beaa, beab}\n",
      "Cover[5] = {, a, baa, bab, bac, bad, bae, bb, bca, bcb, bcc, bcd, bce, bd, beac, beb, bec, bed, beea, beeb, beec, beed, beee, c, d, e}\n",
      "Cover[6] = {bc, bead, beae}\n"
     ]
    }
   ],
   "source": [
    "cover0 = build_initial_cover(tree)\n",
    "print(\"Initial cover:\")\n",
    "print_cover(cover0)\n",
    "cover_start=cover0.copy()\n",
    "cover_final = compute_cover(tree, cover_start)\n",
    "print(\"Final cover:\")\n",
    "print_cover(cover_final)"
   ]
  },
  {
   "cell_type": "code",
   "execution_count": 17,
   "metadata": {},
   "outputs": [
    {
     "name": "stdout",
     "output_type": "stream",
     "text": [
      "\n",
      "--- STAMPA DELLA COVER FINALE ---\n",
      "Cover[1] = {be, beaa, beab}\n",
      "Cover[2] = {ba, beaa, beab, bee}\n",
      "Cover[3] = {bea, beaa, beab}\n",
      "Cover[4] = {b, beaa, beab}\n",
      "Cover[5] = {, a, baa, bab, bac, bad, bae, bb, bca, bcb, bcc, bcd, bce, bd, beac, beb, bec, bed, beea, beeb, beec, beed, beee, c, d, e}\n",
      "Cover[6] = {bc, bead, beae}\n",
      "\n",
      "--- VERIFICA DELLA DYNAMIC CONSISTENCY ---\n",
      "La cover è dinamically consistent? True\n",
      "La cover non ha ridondanze!\n"
     ]
    }
   ],
   "source": [
    "#Debug delle cover finali\n",
    "check, problemi = check_dynamic_consistency(cover_final, tree.alphabet)\n",
    "print(\"\\n--- STAMPA DELLA COVER FINALE ---\")\n",
    "print_cover(cover_final)\n",
    "\n",
    "print(\"\\n--- VERIFICA DELLA DYNAMIC CONSISTENCY ---\")\n",
    "print(f\"La cover è dinamically consistent? {check}\")\n",
    "if not check:\n",
    "    print(\"\\nProblemi trovati:\")\n",
    "    for pi, sigma, motivo in problemi:\n",
    "        parole = sorted([n.word for n in pi])\n",
    "        print(f\"Pi: {{{', '.join(parole)}}}, evento: {sigma}, motivo: {motivo}\")\n",
    "\n",
    "is_ok, problemi = check_cover_redundancy(cover_final)\n",
    "if is_ok:\n",
    "    print(\"La cover non ha ridondanze!\")\n",
    "else:\n",
    "    print(\"Cover ridondante! Problemi trovati:\")\n",
    "    for i, j in problemi:\n",
    "        print(f\"La cella {j+1} è contenuta in cella {i+1}\")\n"
   ]
  },
  {
   "cell_type": "markdown",
   "metadata": {},
   "source": [
    "### Uso del DFA ridotto\n"
   ]
  },
  {
   "cell_type": "code",
   "execution_count": 18,
   "metadata": {},
   "outputs": [
    {
     "name": "stdout",
     "output_type": "stream",
     "text": [
      "Initial is  q4\n",
      "[reduction] .dot saved in ../outputs/reduced_dfa.dot\n",
      "PNG generated: ../outputs/reduced_dfa.png\n"
     ]
    }
   ],
   "source": [
    "dfa_red = build_reduced_dfa_from_dynamic_cover(tree, cover_final)\n",
    "export_dfa_dot(dfa_red, \"../outputs/reduced_dfa.dot\")   \n",
    "dot_to_png(\"../outputs/reduced_dfa.dot\", \"../outputs/reduced_dfa.png\")\n"
   ]
  }
 ],
 "metadata": {
  "kernelspec": {
   "display_name": ".conda",
   "language": "python",
   "name": "python3"
  },
  "language_info": {
   "codemirror_mode": {
    "name": "ipython",
    "version": 3
   },
   "file_extension": ".py",
   "mimetype": "text/x-python",
   "name": "python",
   "nbconvert_exporter": "python",
   "pygments_lexer": "ipython3",
   "version": "3.11.11"
  }
 },
 "nbformat": 4,
 "nbformat_minor": 5
}
