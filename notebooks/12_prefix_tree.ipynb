{
 "cells": [
  {
   "cell_type": "markdown",
   "id": "ceeb7c9b",
   "metadata": {},
   "source": [
    "# Riduzione DFA con prefix-tree & consistent cover\n"
   ]
  },
  {
   "cell_type": "code",
   "execution_count": 2,
   "id": "74260b24",
   "metadata": {},
   "outputs": [
    {
     "name": "stdout",
     "output_type": "stream",
     "text": [
      "DFA salvato in result\\..\\outputs\\custom_dfa.png\n",
      "[tree_builder] salvato .dot in ..\\outputs\\prefix_tree.dot\n"
     ]
    }
   ],
   "source": [
    "import sys\n",
    "from pathlib import Path\n",
    "sys.path.append(str(Path().resolve().parent / \"src\"))\n",
    "Path(\"../outputs\").mkdir(parents=True, exist_ok=True)\n",
    "from generate_sets import derive_sets\n",
    "from tree_builder import build_prefix_tree\n",
    "from dfa_examples import build_dfa\n",
    "\n",
    "states = {\"q0\", \"q1\", \"q2\"}\n",
    "alphabet = {\"a\", \"b\"}\n",
    "transitions = {\n",
    "    (\"q0\", \"a\"): \"q1\",\n",
    "    (\"q1\", \"b\"): \"q2\",\n",
    "    (\"q2\", \"a\"): \"q0\",\n",
    "}\n",
    "initial_state = \"q0\"\n",
    "final_states = {\"q2\"}\n",
    "\n",
    "dfa = build_dfa(states, alphabet, transitions, initial_state, final_states)\n",
    "dfa.to_png(\"../outputs/custom_dfa\")\n",
    "\n",
    "A, G, N = derive_sets(dfa, max_len=4)\n",
    "tree = build_prefix_tree(A, G, N, alphabet=dfa.Sigma)\n",
    "\n",
    "# Esporta per Graphviz\n",
    "tree.export_dot(Path(\"../outputs/prefix_tree.dot\"))\n"
   ]
  },
  {
   "cell_type": "markdown",
   "id": "c0859bfc",
   "metadata": {},
   "source": [
    "## Import delle funzioni"
   ]
  },
  {
   "cell_type": "code",
   "execution_count": 3,
   "id": "c60ea2d7",
   "metadata": {},
   "outputs": [
    {
     "name": "stdout",
     "output_type": "stream",
     "text": [
      "Moduli importati correttamente!\n"
     ]
    }
   ],
   "source": [
    "# Cella 1\n",
    "from tree_builder import build_prefix_tree\n",
    "from reduction import (\n",
    "    build_initial_cover,\n",
    "    refine_cover,\n",
    "    build_reduced_dfa,\n",
    "    export_dfa_dot,\n",
    ")\n",
    "\n",
    "print(\"Moduli importati correttamente!\")\n",
    "\n",
    "# piccola demo con il DFA di esempio\n",
    "from dfa_examples import dfa_simple\n",
    "from generate_sets import derive_sets\n"
   ]
  },
  {
   "cell_type": "markdown",
   "metadata": {},
   "source": [
    "# Pipeline "
   ]
  },
  {
   "cell_type": "code",
   "execution_count": null,
   "metadata": {},
   "outputs": [
    {
     "name": "stdout",
     "output_type": "stream",
     "text": [
      "DFA salvato in result\\..\\outputs\\initial_dfa.png\n",
      "A = {'ab'}\n",
      "G = {'a', 'abaa', 'aba'}\n",
      "N = {'bbab', 'abab', 'bba', 'bbbb', 'baaa', 'aaab', 'abb', 'baa', 'bbb', 'baba', 'bb', 'bbaa', 'aaaa', 'baab', 'aaa', 'aa', 'aabb', 'aab', 'ba', 'aaba', 'abbb', 'b', 'bab', 'abba', 'bbba', 'babb'}\n"
     ]
    }
   ],
   "source": [
    "# Cella 2 – Generazione insiemi A, G, N dal DFA originale\n",
    "dfa = build_dfa(states, alphabet, transitions, initial_state, final_states)\n",
    "dfa.to_png(\"../outputs/initial_dfa\")\n",
    "A, G, N = derive_sets(dfa, max_len=4)    # analizza stringhe ≤4\n",
    "print(\"A =\", A)\n",
    "print(\"G =\", G)\n",
    "print(\"N =\", N)\n"
   ]
  },
  {
   "cell_type": "code",
   "execution_count": 12,
   "metadata": {},
   "outputs": [
    {
     "name": "stdout",
     "output_type": "stream",
     "text": [
      "[tree_builder] salvato .dot in ../outputs/prefix_tree.dot\n",
      "Nodi totali nel tree: 31\n"
     ]
    }
   ],
   "source": [
    "# Cella 3 – Costruzione prefix-tree (e file .dot opzionale)\n",
    "tree = build_prefix_tree(A, G, N, alphabet=dfa.Sigma)\n",
    "tree.export_dot(\"../outputs/prefix_tree.dot\")   # commenta se non ti serve\n",
    "print(\"Nodi totali nel tree:\", sum(1 for _ in tree.iter_nodes()))\n"
   ]
  },
  {
   "cell_type": "code",
   "execution_count": 13,
   "id": "9fda38f7",
   "metadata": {},
   "outputs": [],
   "source": [
    "!dot -Tpng ..\\outputs\\prefix_tree.dot -o ..\\outputs\\prefix_tree.png                "
   ]
  },
  {
   "cell_type": "code",
   "execution_count": 6,
   "metadata": {},
   "outputs": [
    {
     "name": "stdout",
     "output_type": "stream",
     "text": [
      "Celle iniziali: 3\n",
      "Celle finali  : 3\n"
     ]
    }
   ],
   "source": [
    "# Cella 4 – Cover iniziale Π e raffinamento in cover coerente\n",
    "cover0 = build_initial_cover(tree)\n",
    "cover_final = refine_cover(tree, cover0)\n",
    "\n",
    "print(\"Celle iniziali:\", len(cover0))\n",
    "print(\"Celle finali  :\", len(cover_final))\n"
   ]
  },
  {
   "cell_type": "code",
   "execution_count": null,
   "metadata": {},
   "outputs": [
    {
     "name": "stdout",
     "output_type": "stream",
     "text": [
      "[reduction] .dot salvato in ../outputs/reduced_dfa.dot\n",
      "DFA salvato in result\\..\\outputs\\reduced_dfa.png.png\n",
      "Stati DFA ridotto: 3\n",
      "Stato iniziale   : q2\n",
      "Stati finali     : {'q2'}\n"
     ]
    }
   ],
   "source": [
    "# Cella 5 – Costruzione DFA ridotto + esportazione .dot\n",
    "dfa_red = build_reduced_dfa(tree, cover_final)\n",
    "export_dfa_dot(dfa_red, \"../outputs/reduced_dfa.dot\")   # commenta se non ti serve\n",
    "dfa_red.to_png(\"../outputs/reduced_dfa.png\")  # commenta se non ti serve\n",
    "\n",
    "print(\"Stati DFA ridotto:\", len(dfa_red.Q))\n",
    "print(\"Stato iniziale   :\", dfa_red.q0)\n",
    "print(\"Stati finali     :\", dfa_red.F)"
   ]
  },
  {
   "cell_type": "markdown",
   "metadata": {},
   "source": [
    "### Uso del DFA ridotto\n"
   ]
  },
  {
   "cell_type": "code",
   "execution_count": 10,
   "metadata": {},
   "outputs": [
    {
     "name": "stdout",
     "output_type": "stream",
     "text": [
      "δ(q1, a) -> q1\n",
      "δ(None, b) -> None\n",
      "δ(None, b) -> None\n",
      "δ(None, a) -> None\n",
      "Accettata? False\n"
     ]
    }
   ],
   "source": [
    "# Cella 6 – Esempio di simulazione sul DFA ridotto\n",
    "test_word = \"abba\"\n",
    "q = dfa_red.q0\n",
    "for ch in test_word:\n",
    "    q = dfa_red.next(q, ch)\n",
    "    print(f\"δ({q}, {ch}) -> {q}\")\n",
    "print(\"Accettata?\" , q in dfa_red.F)\n"
   ]
  }
 ],
 "metadata": {
  "kernelspec": {
   "display_name": ".conda",
   "language": "python",
   "name": "python3"
  },
  "language_info": {
   "codemirror_mode": {
    "name": "ipython",
    "version": 3
   },
   "file_extension": ".py",
   "mimetype": "text/x-python",
   "name": "python",
   "nbconvert_exporter": "python",
   "pygments_lexer": "ipython3",
   "version": "3.11.11"
  }
 },
 "nbformat": 4,
 "nbformat_minor": 5
}
