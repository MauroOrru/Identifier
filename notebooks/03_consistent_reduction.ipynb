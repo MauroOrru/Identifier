{
 "cells": [
  {
   "cell_type": "markdown",
   "id": "0b99ae7f",
   "metadata": {},
   "source": [
    "## Setup"
   ]
  },
  {
   "cell_type": "code",
   "execution_count": 22,
   "id": "2884a44d",
   "metadata": {},
   "outputs": [
    {
     "name": "stdout",
     "output_type": "stream",
     "text": [
      "The autoreload extension is already loaded. To reload it, use:\n",
      "  %reload_ext autoreload\n",
      "✅ PTA costruita: <PTA: |Q|=267, |Σ|=2>\n"
     ]
    }
   ],
   "source": [
    "# %% 🚀 SETUP\n",
    "%load_ext autoreload\n",
    "%autoreload 2\n",
    "\n",
    "import sys\n",
    "from pathlib import Path\n",
    "sys.path.append(str(Path(\"../src\").resolve()))   # <== cartella src\n",
    "\n",
    "# ---- genera due DFA di test e compone ----\n",
    "from dfa_generator import dfa_parity, dfa_contains, compose, simulate_samples\n",
    "from pta_builder    import PTA\n",
    "\n",
    "dfa1 = dfa_parity(\"a\", 2)\n",
    "dfa2 = dfa_contains(\"bb\", {\"a\", \"b\"})\n",
    "product = compose([dfa1, dfa2], \"intersection\")\n",
    "\n",
    "S_pos, S_neg = simulate_samples(product,\n",
    "                                max_len=10,\n",
    "                                n_positive=50,\n",
    "                                n_negative=50,\n",
    "                                seed=42)\n",
    "\n",
    "pta = PTA.build(S_pos, S_neg)\n",
    "print(\"✅ PTA costruita:\", pta)\n"
   ]
  },
  {
   "cell_type": "markdown",
   "id": "719e7fe9",
   "metadata": {},
   "source": [
    "## Reduction"
   ]
  },
  {
   "cell_type": "code",
   "execution_count": 23,
   "id": "dcbdc930",
   "metadata": {},
   "outputs": [
    {
     "name": "stdout",
     "output_type": "stream",
     "text": [
      "✅ DFA ridotto: DFA(states={0, 1, 2, 3, 4, 5, 6, 7, 8, 9, 10, 11, 12, 13, 14, 15, 16, 17, 18, 19, 20, 21, 22, 23, 24, 25, 26, 27, 28, 29, 30, 31, 32, 33, 34, 35, 36, 37, 38, 39, 40, 41, 42, 43, 44, 45, 46, 47, 48, 49, 50, 51, 52, 53, 54, 55, 56, 57, 58, 59, 60, 61, 62, 63}, alphabet={'b', 'a'}, delta={0: {'b': 0, 'a': 0}, 1: {'b': 3, 'a': 1}, 2: {'b': 11, 'a': 2}, 3: {'b': 55, 'a': 3}, 4: {'b': 9, 'a': 26}, 5: {'b': 7, 'a': 32}, 6: {'b': 4, 'a': 46}, 7: {'b': 3, 'a': 25}, 8: {'b': 0, 'a': 40}, 9: {'b': 2, 'a': 32}, 10: {'b': 49, 'a': 25}, 11: {'b': 40, 'a': 40}, 12: {'b': 60, 'a': 22}, 13: {'b': 59, 'a': 23}, 14: {'b': 61, 'a': 30}, 15: {'b': 55, 'a': 40}, 16: {'b': 56, 'a': 26}, 17: {'b': 55, 'a': 17}, 18: {'b': 57, 'a': 40}, 19: {'b': 58, 'a': 19}, 20: {'b': 62, 'a': 25}, 21: {'b': 63, 'a': 43}, 22: {'b': 29, 'a': 13}, 23: {'b': 28, 'a': 16}, 24: {'b': 24, 'a': 15}, 25: {'b': 25, 'a': 17}, 26: {'b': 40, 'a': 17}, 27: {'b': 48, 'a': 18}, 28: {'b': 34, 'a': 19}, 29: {'b': 39, 'a': 14}, 30: {'b': 38, 'a': 15}, 31: {'b': 35, 'a': 21}, 32: {'b': 25, 'a': 32}, 33: {'b': 26, 'a': 40}, 34: {'b': 25, 'a': 40}, 35: {'b': 27, 'a': 50}, 36: {'b': 25, 'a': 49}, 37: {'b': 32, 'a': 40}, 38: {'b': 48, 'a': 40}, 39: {'b': 40, 'a': 41}, 40: {'b': 40, 'a': 40}, 41: {'b': 42, 'a': 41}, 42: {'b': 49, 'a': 40}, 43: {'b': 44, 'a': 51}, 44: {'b': 48, 'a': 49}, 45: {'b': 45, 'a': 32}, 46: {'b': 47, 'a': 52}, 47: {'b': 33, 'a': 49}, 48: {'b': 48, 'a': 53}, 49: {'b': 49, 'a': 25}, 50: {'b': 45, 'a': 24}, 51: {'b': 53, 'a': 25}, 52: {'b': 54, 'a': 40}, 53: {'b': 17, 'a': 53}, 54: {'b': 20, 'a': 40}, 55: {'b': 0, 'a': 55}, 56: {'b': 1, 'a': 56}, 57: {'b': 0, 'a': 40}, 58: {'b': 3, 'a': 58}, 59: {'b': 5, 'a': 37}, 60: {'b': 6, 'a': 31}, 61: {'b': 8, 'a': 36}, 62: {'b': 8, 'a': 62}, 63: {'b': 10, 'a': 48}}, initial=12, accepting={0, 1, 2, 3, 4, 5, 6, 7, 8, 9, 10, 11})\n",
      "📝 DOT salvato in figs/dfa_reduced.dot\n"
     ]
    }
   ],
   "source": [
    "# %% 🧩 CONSISTENT REDUCTION\n",
    "from pathlib import Path, PurePosixPath\n",
    "import importlib, reduction          # importa modulo appena patchato\n",
    "\n",
    "importlib.reload(reduction)          # forza ricaricamento pulito\n",
    "\n",
    "# usa SEMPRE l'alias sicuro\n",
    "from reduction import reduce_pta     \n",
    "\n",
    "reduced = reduce_pta(pta)\n",
    "print(\"✅ DFA ridotto:\", reduced)\n",
    "\n",
    "Path(\"figs\").mkdir(exist_ok=True)\n",
    "Path(\"figs/dfa_reduced.dot\").write_text(reduced.to_dot())\n",
    "print(\"📝 DOT salvato in figs/dfa_reduced.dot\")\n"
   ]
  },
  {
   "cell_type": "markdown",
   "id": "da74aaa5",
   "metadata": {},
   "source": [
    "## Verification"
   ]
  },
  {
   "cell_type": "code",
   "execution_count": 24,
   "id": "20d3951b",
   "metadata": {},
   "outputs": [
    {
     "name": "stdout",
     "output_type": "stream",
     "text": [
      "🎉 Il DFA ridotto è coerente con S⁺ / S⁻\n"
     ]
    }
   ],
   "source": [
    "# %% ✔️ VERIFICA COERENZA\n",
    "assert all(reduced.accepts(w)  for w in S_pos), \"Errore: qualche S⁺ non accettato\"\n",
    "assert all(not reduced.accepts(w) for w in S_neg), \"Errore: qualche S⁻ accettato\"\n",
    "print(\"🎉 Il DFA ridotto è coerente con S⁺ / S⁻\")\n"
   ]
  }
 ],
 "metadata": {
  "kernelspec": {
   "display_name": "my_ai_env",
   "language": "python",
   "name": "python3"
  },
  "language_info": {
   "codemirror_mode": {
    "name": "ipython",
    "version": 3
   },
   "file_extension": ".py",
   "mimetype": "text/x-python",
   "name": "python",
   "nbconvert_exporter": "python",
   "pygments_lexer": "ipython3",
   "version": "3.10.16"
  }
 },
 "nbformat": 4,
 "nbformat_minor": 5
}
