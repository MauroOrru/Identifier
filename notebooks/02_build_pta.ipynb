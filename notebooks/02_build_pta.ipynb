{
 "cells": [
  {
   "cell_type": "markdown",
   "id": "0c2cc1d7",
   "metadata": {},
   "source": [
    "## Setup & Import"
   ]
  },
  {
   "cell_type": "code",
   "execution_count": 1,
   "id": "a970ad57",
   "metadata": {},
   "outputs": [
    {
     "name": "stdout",
     "output_type": "stream",
     "text": [
      "Campioni generati  ➜  |S⁺|=50, |S⁻|=50\n"
     ]
    }
   ],
   "source": [
    "# 📦 Setup e import\n",
    "import sys\n",
    "from pathlib import Path\n",
    "\n",
    "# Aggiunge src/ al PYTHONPATH (siamo in /notebooks/)\n",
    "sys.path.append(str(Path(\"../src\").resolve()))\n",
    "\n",
    "from dfa_generator import (\n",
    "    dfa_parity,\n",
    "    dfa_contains,\n",
    "    compose,\n",
    "    simulate_samples,\n",
    ")\n",
    "from pta_builder import PTA\n",
    "\n",
    "# ---------------------------------------------------------------------\n",
    "# (ri-)Generiamo i campioni S⁺/S⁻ come nel notebook 01\n",
    "dfa1 = dfa_parity(\"a\", modulo=2)\n",
    "dfa2 = dfa_contains(\"bb\", alphabet={\"a\", \"b\"})\n",
    "product = compose([dfa1, dfa2], accepting_policy=\"intersection\")\n",
    "\n",
    "S_pos, S_neg = simulate_samples(\n",
    "    product,\n",
    "    max_len=10,\n",
    "    n_positive=50,\n",
    "    n_negative=50,\n",
    "    seed=42,\n",
    ")\n",
    "\n",
    "print(f\"Campioni generati  ➜  |S⁺|={len(S_pos)}, |S⁻|={len(S_neg)}\")\n"
   ]
  },
  {
   "cell_type": "markdown",
   "id": "467dd8d7",
   "metadata": {},
   "source": [
    "## Costruzione PTA"
   ]
  },
  {
   "cell_type": "code",
   "execution_count": 2,
   "id": "5c176d19",
   "metadata": {},
   "outputs": [
    {
     "name": "stderr",
     "output_type": "stream",
     "text": [
      "Warning: Could not load \"C:\\Users\\Mauro\\anaconda3\\envs\\my_ai_env\\Library\\bin\\gvplugin_pango.dll\" - It was found, so perhaps one of its dependents was not.  Try ldd.\n",
      "Warning: Could not load \"C:\\Users\\Mauro\\anaconda3\\envs\\my_ai_env\\Library\\bin\\gvplugin_pango.dll\" - It was found, so perhaps one of its dependents was not.  Try ldd.\n",
      "Warning: Could not load \"C:\\Users\\Mauro\\anaconda3\\envs\\my_ai_env\\Library\\bin\\gvplugin_pango.dll\" - It was found, so perhaps one of its dependents was not.  Try ldd.\n",
      "Warning: Could not load \"C:\\Users\\Mauro\\anaconda3\\envs\\my_ai_env\\Library\\bin\\gvplugin_pango.dll\" - It was found, so perhaps one of its dependents was not.  Try ldd.\n",
      "Warning: Could not load \"C:\\Users\\Mauro\\anaconda3\\envs\\my_ai_env\\Library\\bin\\gvplugin_pango.dll\" - It was found, so perhaps one of its dependents was not.  Try ldd.\n"
     ]
    },
    {
     "name": "stdout",
     "output_type": "stream",
     "text": [
      "<PTA: |Q|=267, |Σ|=2>\n",
      "✅  PNG PTA salvato in figs/pta.png\n",
      "✅  PTA coerente con i campioni S⁺ / S⁻\n"
     ]
    }
   ],
   "source": [
    "# Costruzione della PTA dai campioni\n",
    "pta = PTA.build(S_pos, S_neg)  # costruisce l'albero\n",
    "print(pta)                     # stampa: <PTA: |Q|=..., |Σ|=...>\n",
    "\n",
    "# Visualizzazione: PNG se Graphviz disponibile, altrimenti DOT\n",
    "Path(\"figs\").mkdir(exist_ok=True)\n",
    "\n",
    "try:\n",
    "    pta.to_graphviz(\"figs/pta\")\n",
    "    print(\"✅  PNG PTA salvato in figs/pta.png\")\n",
    "except Exception as e:\n",
    "    print(\"⚠️  PNG non generato, salvo DOT.\")\n",
    "    print(e)\n",
    "    with open(\"figs/pta.dot\", \"w\") as f:\n",
    "        f.write(pta.to_dot())\n",
    "    print(\"📝  DOT salvato in figs/pta.dot\")\n",
    "\n",
    "# ---------------------------------------------------------------------\n",
    "# Verifica di coerenza con i campioni S⁺ / S⁻\n",
    "assert all(pta.accepts(w) for w in S_pos), \"Errore: qualche S⁺ non accettato\"\n",
    "assert all(not pta.accepts(w) for w in S_neg), \"Errore: qualche S⁻ accettato\"\n",
    "print(\"✅  PTA coerente con i campioni S⁺ / S⁻\")"
   ]
  }
 ],
 "metadata": {
  "kernelspec": {
   "display_name": "my_ai_env",
   "language": "python",
   "name": "python3"
  },
  "language_info": {
   "codemirror_mode": {
    "name": "ipython",
    "version": 3
   },
   "file_extension": ".py",
   "mimetype": "text/x-python",
   "name": "python",
   "nbconvert_exporter": "python",
   "pygments_lexer": "ipython3",
   "version": "3.10.16"
  }
 },
 "nbformat": 4,
 "nbformat_minor": 5
}
