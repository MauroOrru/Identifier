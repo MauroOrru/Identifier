{
 "cells": [
  {
   "cell_type": "markdown",
   "id": "754d24d6",
   "metadata": {},
   "source": [
    "# Setup & Import"
   ]
  },
  {
   "cell_type": "code",
   "execution_count": 1,
   "id": "635926d6",
   "metadata": {},
   "outputs": [],
   "source": [
    "# %% 📊 Esperimento: effetto della lunghezza max sulle dimensioni della PTA e del DFA ridotto\n",
    "\n",
    "import sys\n",
    "from pathlib import Path\n",
    "sys.path.append(str(Path(\"../src\").resolve()))\n",
    "\n",
    "from dfa_generator import dfa_parity, dfa_contains, compose, simulate_samples\n",
    "from pta_builder import PTA\n",
    "from reduction import reduce  # <-- fix qui\n",
    "\n",
    "\n"
   ]
  },
  {
   "cell_type": "markdown",
   "id": "182c4322",
   "metadata": {},
   "source": [
    "# Elaborate"
   ]
  },
  {
   "cell_type": "code",
   "execution_count": null,
   "id": "a763ddd7",
   "metadata": {},
   "outputs": [],
   "source": [
    "# Costruzione DFA target noto\n",
    "symbol = \"a\"\n",
    "dfa1 = dfa_parity(symbol, 2)\n",
    "dfa2 = dfa_contains(\"bb\", {\"a\", \"b\"})\n",
    "product = compose([dfa1, dfa2], \"intersection\")\n",
    "print(product)\n",
    "\n",
    "# Parametri dell'esperimento\n",
    "lengths = [3, 4, 5, 6, 7, 8, 9, 10, 20, 30, 40, 50, 100, 200, 300, 400, 500, 600, 700, 800, 900, 1000]\n",
    "n_pos = 100\n",
    "n_neg = 100\n",
    "\n",
    "print(\"\\nEsperimento: effetto di max_len sulla riduzione DFA\")\n",
    "print(\"---------------------------------------------------------------\")\n",
    "print(f\"{'max_len':>8} | {'|PTA|':>6} | {'|DFA ridotto|':>13} | {'Riduzione (%)':>14}\")\n",
    "print(\"-\" * 63)\n",
    "\n",
    "for L in lengths:\n",
    "    S_pos, S_neg = simulate_samples(\n",
    "        product,\n",
    "        max_len=L,\n",
    "        n_positive=n_pos,\n",
    "        n_negative=n_neg,\n",
    "        seed=42,\n",
    "    )\n",
    "    pta = PTA.build(S_pos, S_neg)\n",
    "    reduced = reduce(pta)\n",
    "    ratio = len(reduced.states) / len(pta.states) * 100  # in percentuale\n",
    "\n",
    "    print(f\"{L:8d} | {len(pta.states):6d} | {len(reduced.states):13d} | {ratio:13.2f}%\")\n",
    "\n",
    "# Nota:\n",
    "# - Aumentare max_len esplora porzioni più profonde del linguaggio target.\n",
    "# - Il numero di stati della PTA può crescere velocemente.\n",
    "# - La riduzione può o meno essere efficace a seconda della coerenza e ridondanza nei campioni.\n",
    "# - Il rateo (%) indica quanto è \"compressa\" la PTA nel DFA finale."
   ]
  },
  {
   "cell_type": "code",
   "execution_count": null,
   "id": "2a47836d",
   "metadata": {},
   "outputs": [],
   "source": [
    "# 2 test\n"
   ]
  },
  {
   "cell_type": "code",
   "execution_count": 10,
   "id": "9c7ba6ba",
   "metadata": {},
   "outputs": [
    {
     "name": "stdout",
     "output_type": "stream",
     "text": [
      "<ProductDFA: |Q|=6, |Σ|=2>\n",
      "Esperimento: effetto di n_positive/n_negative sulla riduzione DFA\n",
      "---------------------------------------------------------------------\n",
      "  campioni |  |PTA| | |DFA ridotto| |  Compressione (%)\n",
      "-----------------------------------------------------------------\n",
      "        10 |    154 |            66 |             57.14%\n",
      "        50 |    613 |           167 |             72.76%\n",
      "       100 |   1174 |           288 |             75.47%\n",
      "       200 |   2215 |           497 |             77.56%\n",
      "       500 |   5001 |           950 |             81.00%\n",
      "[WARN] solo 683 positivi e 1000 negativi trovati in 10000 tentativi (max_len=20).\n",
      "      1000 |   7833 |          1215 |             84.49%\n"
     ]
    }
   ],
   "source": [
    "# %% 📊 Esperimento: effetto della lunghezza max sulle dimensioni della PTA e del DFA ridotto\n",
    "\n",
    "# Costruzione DFA target noto\n",
    "symbol = \"a\"\n",
    "dfa1 = dfa_parity(symbol, 2)\n",
    "dfa2 = dfa_contains(\"bb\", {\"a\", \"b\"})\n",
    "product = compose([dfa1, dfa2], \"intersection\")\n",
    "print(product)\n",
    "\n",
    "# %% 📊 Esperimento: effetto del numero di campioni su PTA e DFA\n",
    "\n",
    "n_lengths = 20\n",
    "sizes = [10, 50, 100, 200, 500, 1000]\n",
    "max_len = n_lengths\n",
    "\n",
    "print(\"Esperimento: effetto di n_positive/n_negative sulla riduzione DFA\")\n",
    "print(\"---------------------------------------------------------------------\")\n",
    "print(f\"{'campioni':>10} | {'|PTA|':>6} | {'|DFA ridotto|':>13} | {'Compressione (%)':>17}\")\n",
    "print(\"-\" * 65)\n",
    "\n",
    "for n in sizes:\n",
    "    S_pos, S_neg = simulate_samples(\n",
    "        product,\n",
    "        max_len=max_len,\n",
    "        n_positive=n,\n",
    "        n_negative=n,\n",
    "        seed=42,\n",
    "    )\n",
    "    pta = PTA.build(S_pos, S_neg)\n",
    "    reduced = reduce(pta)\n",
    "    compression = (1 - len(reduced.states) / len(pta.states)) * 100\n",
    "    print(f\"{n:10d} | {len(pta.states):6d} | {len(reduced.states):13d} | {compression:17.2f}%\")\n",
    "\n",
    "# Nota:\n",
    "# - Questo esperimento fissa max_len e varia la quantità di dati.\n",
    "# - Aumentare il numero di campioni dovrebbe aumentare la copertura del linguaggio\n",
    "#   e favorire una riduzione più efficace (maggiore compressione).\n"
   ]
  }
 ],
 "metadata": {
  "kernelspec": {
   "display_name": "my_ai_env",
   "language": "python",
   "name": "python3"
  },
  "language_info": {
   "codemirror_mode": {
    "name": "ipython",
    "version": 3
   },
   "file_extension": ".py",
   "mimetype": "text/x-python",
   "name": "python",
   "nbconvert_exporter": "python",
   "pygments_lexer": "ipython3",
   "version": "3.10.16"
  }
 },
 "nbformat": 4,
 "nbformat_minor": 5
}
